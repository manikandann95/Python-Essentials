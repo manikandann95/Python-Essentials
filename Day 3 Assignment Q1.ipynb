{
  "nbformat": 4,
  "nbformat_minor": 0,
  "metadata": {
    "colab": {
      "name": "Untitled0.ipynb",
      "provenance": [],
      "collapsed_sections": [],
      "authorship_tag": "ABX9TyM/zrLI+pogVW0zgwksYyRP",
      "include_colab_link": true
    },
    "kernelspec": {
      "name": "python3",
      "display_name": "Python 3"
    }
  },
  "cells": [
    {
      "cell_type": "markdown",
      "metadata": {
        "id": "view-in-github",
        "colab_type": "text"
      },
      "source": [
        "<a href=\"https://colab.research.google.com/github/manikandann95/Python-Essentials/blob/master/Day%203%20Assignment%20Q1.ipynb\" target=\"_parent\"><img src=\"https://colab.research.google.com/assets/colab-badge.svg\" alt=\"Open In Colab\"/></a>"
      ]
    },
    {
      "cell_type": "code",
      "metadata": {
        "id": "NKHbSMRv_2Px",
        "colab_type": "code",
        "colab": {
          "base_uri": "https://localhost:8080/",
          "height": 51
        },
        "outputId": "8c0dbf4a-1fb6-4602-dbbc-7b3e18d7ea13"
      },
      "source": [
        "# Day 3 Assignment : MANIKANDAN.N\n",
        "# 1.  Pilot question\n",
        "altitude = input(\"Enter Altitude: \")\n",
        "alt = int(altitude) \n",
        "if alt <= 1000:\n",
        "  print(\"Safe to Land\")\n",
        "elif alt < 5000:\n",
        "  print(\"Bring down to 1000ft\")   \n",
        "else:\n",
        "  print(\"Turn Around, Try again later\")"
      ],
      "execution_count": 6,
      "outputs": [
        {
          "output_type": "stream",
          "text": [
            "Enter Altitude: 6000\n",
            "Turn Around, Try again later\n"
          ],
          "name": "stdout"
        }
      ]
    }
  ]
}